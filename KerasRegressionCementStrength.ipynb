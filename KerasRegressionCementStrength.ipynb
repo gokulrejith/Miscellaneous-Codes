{
 "cells": [
  {
   "cell_type": "markdown",
   "metadata": {
    "button": false,
    "deletable": true,
    "new_sheet": false,
    "run_control": {
     "read_only": false
    }
   },
   "source": [
    "<a href=\"https://cognitiveclass.ai\"><img src = \"https://s3-api.us-geo.objectstorage.softlayer.net/cf-courses-data/CognitiveClass/Logos/organization_logo/organization_logo.png\" width = 400> </a>\n",
    "\n",
    "<h1 align=center><font size = 5>Regression Models with Keras</font></h1>\n"
   ]
  },
  {
   "cell_type": "markdown",
   "metadata": {
    "button": false,
    "deletable": true,
    "new_sheet": false,
    "run_control": {
     "read_only": false
    }
   },
   "source": [
    "## Introduction\n"
   ]
  },
  {
   "cell_type": "markdown",
   "metadata": {
    "button": false,
    "deletable": true,
    "new_sheet": false,
    "run_control": {
     "read_only": false
    }
   },
   "source": [
    "As we discussed in the videos, despite the popularity of more powerful libraries such as PyToch and TensorFlow, they are not easy to use and have a steep learning curve. So, for people who are just starting to learn deep learning, there is no better library to use other than the Keras library. \n",
    "\n",
    "Keras is a high-level API for building deep learning models. It has gained favor for its ease of use and syntactic simplicity facilitating fast development. As you will see in this lab and the other labs in this course, building a very complex deep learning network can be achieved with Keras with only few lines of code. You will appreciate Keras even more, once you learn how to build deep models using PyTorch and TensorFlow in the other courses.\n",
    "\n",
    "So, in this lab, you will learn how to use the Keras library to build a regression model.\n"
   ]
  },
  {
   "cell_type": "markdown",
   "metadata": {},
   "source": [
    "<h2>Regression Models with Keras</h2>\n",
    "\n",
    "<h3>Objective for this Notebook<h3>    \n",
    "<h5> 1. How to use the Keras library to build a regression model.</h5>\n",
    "<h5> 2. Download and Clean dataset </h5>\n",
    "<h5> 3. Build a Neural Network </h5>\n",
    "<h5> 4. Train and Test the Network. </h5>     \n"
   ]
  },
  {
   "cell_type": "markdown",
   "metadata": {
    "button": false,
    "deletable": true,
    "new_sheet": false,
    "run_control": {
     "read_only": false
    }
   },
   "source": [
    "## Table of Contents\n",
    "\n",
    "<div class=\"alert alert-block alert-info\" style=\"margin-top: 20px\">\n",
    "\n",
    "<font size = 3>\n",
    "    \n",
    "1. <a href=\"#item31\">Download and Clean Dataset</a>  \n",
    "2. <a href=\"#item32\">Import Keras</a>  \n",
    "3. <a href=\"#item33\">Build a Neural Network</a>  \n",
    "4. <a href=\"#item34\">Train and Test the Network</a>  \n",
    "\n",
    "</font>\n",
    "</div>\n"
   ]
  },
  {
   "cell_type": "markdown",
   "metadata": {
    "button": false,
    "deletable": true,
    "new_sheet": false,
    "run_control": {
     "read_only": false
    }
   },
   "source": [
    "<a id=\"item31\"></a>\n"
   ]
  },
  {
   "cell_type": "markdown",
   "metadata": {
    "button": false,
    "deletable": true,
    "new_sheet": false,
    "run_control": {
     "read_only": false
    }
   },
   "source": [
    "## Download and Clean Dataset\n"
   ]
  },
  {
   "cell_type": "markdown",
   "metadata": {
    "button": false,
    "deletable": true,
    "new_sheet": false,
    "run_control": {
     "read_only": false
    }
   },
   "source": [
    "Let's start by importing the <em>pandas</em> and the Numpy libraries.\n"
   ]
  },
  {
   "cell_type": "code",
   "execution_count": 1,
   "metadata": {
    "button": false,
    "deletable": true,
    "new_sheet": false,
    "run_control": {
     "read_only": false
    }
   },
   "outputs": [],
   "source": [
    "import pandas as pd\n",
    "import numpy as np"
   ]
  },
  {
   "cell_type": "markdown",
   "metadata": {
    "button": false,
    "deletable": true,
    "new_sheet": false,
    "run_control": {
     "read_only": false
    }
   },
   "source": [
    "We will be playing around with the same dataset that we used in the videos.\n",
    "\n",
    "<strong>The dataset is about the compressive strength of different samples of concrete based on the volumes of the different ingredients that were used to make them. Ingredients include:</strong>\n",
    "\n",
    "<strong>1. Cement</strong>\n",
    "\n",
    "<strong>2. Blast Furnace Slag</strong>\n",
    "\n",
    "<strong>3. Fly Ash</strong>\n",
    "\n",
    "<strong>4. Water</strong>\n",
    "\n",
    "<strong>5. Superplasticizer</strong>\n",
    "\n",
    "<strong>6. Coarse Aggregate</strong>\n",
    "\n",
    "<strong>7. Fine Aggregate</strong>\n"
   ]
  },
  {
   "cell_type": "markdown",
   "metadata": {
    "button": false,
    "deletable": true,
    "new_sheet": false,
    "run_control": {
     "read_only": false
    }
   },
   "source": [
    "Let's download the data and read it into a <em>pandas</em> dataframe.\n"
   ]
  },
  {
   "cell_type": "code",
   "execution_count": 2,
   "metadata": {
    "button": false,
    "deletable": true,
    "new_sheet": false,
    "run_control": {
     "read_only": false
    }
   },
   "outputs": [
    {
     "data": {
      "text/html": [
       "<div>\n",
       "<style scoped>\n",
       "    .dataframe tbody tr th:only-of-type {\n",
       "        vertical-align: middle;\n",
       "    }\n",
       "\n",
       "    .dataframe tbody tr th {\n",
       "        vertical-align: top;\n",
       "    }\n",
       "\n",
       "    .dataframe thead th {\n",
       "        text-align: right;\n",
       "    }\n",
       "</style>\n",
       "<table border=\"1\" class=\"dataframe\">\n",
       "  <thead>\n",
       "    <tr style=\"text-align: right;\">\n",
       "      <th></th>\n",
       "      <th>Cement</th>\n",
       "      <th>Blast Furnace Slag</th>\n",
       "      <th>Fly Ash</th>\n",
       "      <th>Water</th>\n",
       "      <th>Superplasticizer</th>\n",
       "      <th>Coarse Aggregate</th>\n",
       "      <th>Fine Aggregate</th>\n",
       "      <th>Age</th>\n",
       "      <th>Strength</th>\n",
       "    </tr>\n",
       "  </thead>\n",
       "  <tbody>\n",
       "    <tr>\n",
       "      <th>0</th>\n",
       "      <td>540.0</td>\n",
       "      <td>0.0</td>\n",
       "      <td>0.0</td>\n",
       "      <td>162.0</td>\n",
       "      <td>2.5</td>\n",
       "      <td>1040.0</td>\n",
       "      <td>676.0</td>\n",
       "      <td>28</td>\n",
       "      <td>79.99</td>\n",
       "    </tr>\n",
       "    <tr>\n",
       "      <th>1</th>\n",
       "      <td>540.0</td>\n",
       "      <td>0.0</td>\n",
       "      <td>0.0</td>\n",
       "      <td>162.0</td>\n",
       "      <td>2.5</td>\n",
       "      <td>1055.0</td>\n",
       "      <td>676.0</td>\n",
       "      <td>28</td>\n",
       "      <td>61.89</td>\n",
       "    </tr>\n",
       "    <tr>\n",
       "      <th>2</th>\n",
       "      <td>332.5</td>\n",
       "      <td>142.5</td>\n",
       "      <td>0.0</td>\n",
       "      <td>228.0</td>\n",
       "      <td>0.0</td>\n",
       "      <td>932.0</td>\n",
       "      <td>594.0</td>\n",
       "      <td>270</td>\n",
       "      <td>40.27</td>\n",
       "    </tr>\n",
       "    <tr>\n",
       "      <th>3</th>\n",
       "      <td>332.5</td>\n",
       "      <td>142.5</td>\n",
       "      <td>0.0</td>\n",
       "      <td>228.0</td>\n",
       "      <td>0.0</td>\n",
       "      <td>932.0</td>\n",
       "      <td>594.0</td>\n",
       "      <td>365</td>\n",
       "      <td>41.05</td>\n",
       "    </tr>\n",
       "    <tr>\n",
       "      <th>4</th>\n",
       "      <td>198.6</td>\n",
       "      <td>132.4</td>\n",
       "      <td>0.0</td>\n",
       "      <td>192.0</td>\n",
       "      <td>0.0</td>\n",
       "      <td>978.4</td>\n",
       "      <td>825.5</td>\n",
       "      <td>360</td>\n",
       "      <td>44.30</td>\n",
       "    </tr>\n",
       "  </tbody>\n",
       "</table>\n",
       "</div>"
      ],
      "text/plain": [
       "   Cement  Blast Furnace Slag  Fly Ash  Water  Superplasticizer  \\\n",
       "0   540.0                 0.0      0.0  162.0               2.5   \n",
       "1   540.0                 0.0      0.0  162.0               2.5   \n",
       "2   332.5               142.5      0.0  228.0               0.0   \n",
       "3   332.5               142.5      0.0  228.0               0.0   \n",
       "4   198.6               132.4      0.0  192.0               0.0   \n",
       "\n",
       "   Coarse Aggregate  Fine Aggregate  Age  Strength  \n",
       "0            1040.0           676.0   28     79.99  \n",
       "1            1055.0           676.0   28     61.89  \n",
       "2             932.0           594.0  270     40.27  \n",
       "3             932.0           594.0  365     41.05  \n",
       "4             978.4           825.5  360     44.30  "
      ]
     },
     "execution_count": 2,
     "metadata": {},
     "output_type": "execute_result"
    }
   ],
   "source": [
    "concrete_data = pd.read_csv('https://s3-api.us-geo.objectstorage.softlayer.net/cf-courses-data/CognitiveClass/DL0101EN/labs/data/concrete_data.csv')\n",
    "concrete_data.head()"
   ]
  },
  {
   "cell_type": "markdown",
   "metadata": {
    "button": false,
    "deletable": true,
    "new_sheet": false,
    "run_control": {
     "read_only": false
    }
   },
   "source": [
    "So the first concrete sample has 540 cubic meter of cement, 0 cubic meter of blast furnace slag, 0 cubic meter of fly ash, 162 cubic meter of water, 2.5 cubic meter of superplaticizer, 1040 cubic meter of coarse aggregate, 676 cubic meter of fine aggregate. Such a concrete mix which is 28 days old, has a compressive strength of 79.99 MPa. \n"
   ]
  },
  {
   "cell_type": "markdown",
   "metadata": {
    "button": false,
    "deletable": true,
    "new_sheet": false,
    "run_control": {
     "read_only": false
    }
   },
   "source": [
    "#### Let's check how many data points we have.\n"
   ]
  },
  {
   "cell_type": "code",
   "execution_count": 3,
   "metadata": {
    "button": false,
    "deletable": true,
    "new_sheet": false,
    "run_control": {
     "read_only": false
    }
   },
   "outputs": [
    {
     "data": {
      "text/plain": [
       "(1030, 9)"
      ]
     },
     "execution_count": 3,
     "metadata": {},
     "output_type": "execute_result"
    }
   ],
   "source": [
    "concrete_data.shape"
   ]
  },
  {
   "cell_type": "markdown",
   "metadata": {
    "button": false,
    "deletable": true,
    "new_sheet": false,
    "run_control": {
     "read_only": false
    }
   },
   "source": [
    "So, there are approximately 1000 samples to train our model on. Because of the few samples, we have to be careful not to overfit the training data.\n"
   ]
  },
  {
   "cell_type": "markdown",
   "metadata": {
    "button": false,
    "deletable": true,
    "new_sheet": false,
    "run_control": {
     "read_only": false
    }
   },
   "source": [
    "Let's check the dataset for any missing values.\n"
   ]
  },
  {
   "cell_type": "code",
   "execution_count": 4,
   "metadata": {
    "button": false,
    "deletable": true,
    "new_sheet": false,
    "run_control": {
     "read_only": false
    }
   },
   "outputs": [
    {
     "data": {
      "text/html": [
       "<div>\n",
       "<style scoped>\n",
       "    .dataframe tbody tr th:only-of-type {\n",
       "        vertical-align: middle;\n",
       "    }\n",
       "\n",
       "    .dataframe tbody tr th {\n",
       "        vertical-align: top;\n",
       "    }\n",
       "\n",
       "    .dataframe thead th {\n",
       "        text-align: right;\n",
       "    }\n",
       "</style>\n",
       "<table border=\"1\" class=\"dataframe\">\n",
       "  <thead>\n",
       "    <tr style=\"text-align: right;\">\n",
       "      <th></th>\n",
       "      <th>Cement</th>\n",
       "      <th>Blast Furnace Slag</th>\n",
       "      <th>Fly Ash</th>\n",
       "      <th>Water</th>\n",
       "      <th>Superplasticizer</th>\n",
       "      <th>Coarse Aggregate</th>\n",
       "      <th>Fine Aggregate</th>\n",
       "      <th>Age</th>\n",
       "      <th>Strength</th>\n",
       "    </tr>\n",
       "  </thead>\n",
       "  <tbody>\n",
       "    <tr>\n",
       "      <th>count</th>\n",
       "      <td>1030.000000</td>\n",
       "      <td>1030.000000</td>\n",
       "      <td>1030.000000</td>\n",
       "      <td>1030.000000</td>\n",
       "      <td>1030.000000</td>\n",
       "      <td>1030.000000</td>\n",
       "      <td>1030.000000</td>\n",
       "      <td>1030.000000</td>\n",
       "      <td>1030.000000</td>\n",
       "    </tr>\n",
       "    <tr>\n",
       "      <th>mean</th>\n",
       "      <td>281.167864</td>\n",
       "      <td>73.895825</td>\n",
       "      <td>54.188350</td>\n",
       "      <td>181.567282</td>\n",
       "      <td>6.204660</td>\n",
       "      <td>972.918932</td>\n",
       "      <td>773.580485</td>\n",
       "      <td>45.662136</td>\n",
       "      <td>35.817961</td>\n",
       "    </tr>\n",
       "    <tr>\n",
       "      <th>std</th>\n",
       "      <td>104.506364</td>\n",
       "      <td>86.279342</td>\n",
       "      <td>63.997004</td>\n",
       "      <td>21.354219</td>\n",
       "      <td>5.973841</td>\n",
       "      <td>77.753954</td>\n",
       "      <td>80.175980</td>\n",
       "      <td>63.169912</td>\n",
       "      <td>16.705742</td>\n",
       "    </tr>\n",
       "    <tr>\n",
       "      <th>min</th>\n",
       "      <td>102.000000</td>\n",
       "      <td>0.000000</td>\n",
       "      <td>0.000000</td>\n",
       "      <td>121.800000</td>\n",
       "      <td>0.000000</td>\n",
       "      <td>801.000000</td>\n",
       "      <td>594.000000</td>\n",
       "      <td>1.000000</td>\n",
       "      <td>2.330000</td>\n",
       "    </tr>\n",
       "    <tr>\n",
       "      <th>25%</th>\n",
       "      <td>192.375000</td>\n",
       "      <td>0.000000</td>\n",
       "      <td>0.000000</td>\n",
       "      <td>164.900000</td>\n",
       "      <td>0.000000</td>\n",
       "      <td>932.000000</td>\n",
       "      <td>730.950000</td>\n",
       "      <td>7.000000</td>\n",
       "      <td>23.710000</td>\n",
       "    </tr>\n",
       "    <tr>\n",
       "      <th>50%</th>\n",
       "      <td>272.900000</td>\n",
       "      <td>22.000000</td>\n",
       "      <td>0.000000</td>\n",
       "      <td>185.000000</td>\n",
       "      <td>6.400000</td>\n",
       "      <td>968.000000</td>\n",
       "      <td>779.500000</td>\n",
       "      <td>28.000000</td>\n",
       "      <td>34.445000</td>\n",
       "    </tr>\n",
       "    <tr>\n",
       "      <th>75%</th>\n",
       "      <td>350.000000</td>\n",
       "      <td>142.950000</td>\n",
       "      <td>118.300000</td>\n",
       "      <td>192.000000</td>\n",
       "      <td>10.200000</td>\n",
       "      <td>1029.400000</td>\n",
       "      <td>824.000000</td>\n",
       "      <td>56.000000</td>\n",
       "      <td>46.135000</td>\n",
       "    </tr>\n",
       "    <tr>\n",
       "      <th>max</th>\n",
       "      <td>540.000000</td>\n",
       "      <td>359.400000</td>\n",
       "      <td>200.100000</td>\n",
       "      <td>247.000000</td>\n",
       "      <td>32.200000</td>\n",
       "      <td>1145.000000</td>\n",
       "      <td>992.600000</td>\n",
       "      <td>365.000000</td>\n",
       "      <td>82.600000</td>\n",
       "    </tr>\n",
       "  </tbody>\n",
       "</table>\n",
       "</div>"
      ],
      "text/plain": [
       "            Cement  Blast Furnace Slag      Fly Ash        Water  \\\n",
       "count  1030.000000         1030.000000  1030.000000  1030.000000   \n",
       "mean    281.167864           73.895825    54.188350   181.567282   \n",
       "std     104.506364           86.279342    63.997004    21.354219   \n",
       "min     102.000000            0.000000     0.000000   121.800000   \n",
       "25%     192.375000            0.000000     0.000000   164.900000   \n",
       "50%     272.900000           22.000000     0.000000   185.000000   \n",
       "75%     350.000000          142.950000   118.300000   192.000000   \n",
       "max     540.000000          359.400000   200.100000   247.000000   \n",
       "\n",
       "       Superplasticizer  Coarse Aggregate  Fine Aggregate          Age  \\\n",
       "count       1030.000000       1030.000000     1030.000000  1030.000000   \n",
       "mean           6.204660        972.918932      773.580485    45.662136   \n",
       "std            5.973841         77.753954       80.175980    63.169912   \n",
       "min            0.000000        801.000000      594.000000     1.000000   \n",
       "25%            0.000000        932.000000      730.950000     7.000000   \n",
       "50%            6.400000        968.000000      779.500000    28.000000   \n",
       "75%           10.200000       1029.400000      824.000000    56.000000   \n",
       "max           32.200000       1145.000000      992.600000   365.000000   \n",
       "\n",
       "          Strength  \n",
       "count  1030.000000  \n",
       "mean     35.817961  \n",
       "std      16.705742  \n",
       "min       2.330000  \n",
       "25%      23.710000  \n",
       "50%      34.445000  \n",
       "75%      46.135000  \n",
       "max      82.600000  "
      ]
     },
     "execution_count": 4,
     "metadata": {},
     "output_type": "execute_result"
    }
   ],
   "source": [
    "concrete_data.describe()"
   ]
  },
  {
   "cell_type": "code",
   "execution_count": 5,
   "metadata": {
    "button": false,
    "deletable": true,
    "new_sheet": false,
    "run_control": {
     "read_only": false
    }
   },
   "outputs": [
    {
     "data": {
      "text/plain": [
       "Cement                0\n",
       "Blast Furnace Slag    0\n",
       "Fly Ash               0\n",
       "Water                 0\n",
       "Superplasticizer      0\n",
       "Coarse Aggregate      0\n",
       "Fine Aggregate        0\n",
       "Age                   0\n",
       "Strength              0\n",
       "dtype: int64"
      ]
     },
     "execution_count": 5,
     "metadata": {},
     "output_type": "execute_result"
    }
   ],
   "source": [
    "concrete_data.isnull().sum()"
   ]
  },
  {
   "cell_type": "markdown",
   "metadata": {
    "button": false,
    "deletable": true,
    "new_sheet": false,
    "run_control": {
     "read_only": false
    }
   },
   "source": [
    "The data looks very clean and is ready to be used to build our model.\n"
   ]
  },
  {
   "cell_type": "markdown",
   "metadata": {
    "button": false,
    "deletable": true,
    "new_sheet": false,
    "run_control": {
     "read_only": false
    }
   },
   "source": [
    "#### Split data into predictors and target\n"
   ]
  },
  {
   "cell_type": "markdown",
   "metadata": {},
   "source": [
    "The target variable in this problem is the concrete sample strength. Therefore, our predictors will be all the other columns.\n"
   ]
  },
  {
   "cell_type": "code",
   "execution_count": 6,
   "metadata": {
    "button": false,
    "deletable": true,
    "new_sheet": false,
    "run_control": {
     "read_only": false
    }
   },
   "outputs": [],
   "source": [
    "concrete_data_columns = concrete_data.columns\n",
    "\n",
    "predictors = concrete_data[concrete_data_columns[concrete_data_columns != 'Strength']] # all columns except Strength\n",
    "target = concrete_data['Strength'] # Strength column"
   ]
  },
  {
   "cell_type": "markdown",
   "metadata": {
    "button": false,
    "deletable": true,
    "new_sheet": false,
    "run_control": {
     "read_only": false
    }
   },
   "source": [
    "<a id=\"item2\"></a>\n"
   ]
  },
  {
   "cell_type": "markdown",
   "metadata": {
    "button": false,
    "deletable": true,
    "new_sheet": false,
    "run_control": {
     "read_only": false
    }
   },
   "source": [
    "Let's do a quick sanity check of the predictors and the target dataframes.\n"
   ]
  },
  {
   "cell_type": "code",
   "execution_count": 7,
   "metadata": {
    "button": false,
    "deletable": true,
    "new_sheet": false,
    "run_control": {
     "read_only": false
    }
   },
   "outputs": [
    {
     "data": {
      "text/html": [
       "<div>\n",
       "<style scoped>\n",
       "    .dataframe tbody tr th:only-of-type {\n",
       "        vertical-align: middle;\n",
       "    }\n",
       "\n",
       "    .dataframe tbody tr th {\n",
       "        vertical-align: top;\n",
       "    }\n",
       "\n",
       "    .dataframe thead th {\n",
       "        text-align: right;\n",
       "    }\n",
       "</style>\n",
       "<table border=\"1\" class=\"dataframe\">\n",
       "  <thead>\n",
       "    <tr style=\"text-align: right;\">\n",
       "      <th></th>\n",
       "      <th>Cement</th>\n",
       "      <th>Blast Furnace Slag</th>\n",
       "      <th>Fly Ash</th>\n",
       "      <th>Water</th>\n",
       "      <th>Superplasticizer</th>\n",
       "      <th>Coarse Aggregate</th>\n",
       "      <th>Fine Aggregate</th>\n",
       "      <th>Age</th>\n",
       "    </tr>\n",
       "  </thead>\n",
       "  <tbody>\n",
       "    <tr>\n",
       "      <th>0</th>\n",
       "      <td>540.0</td>\n",
       "      <td>0.0</td>\n",
       "      <td>0.0</td>\n",
       "      <td>162.0</td>\n",
       "      <td>2.5</td>\n",
       "      <td>1040.0</td>\n",
       "      <td>676.0</td>\n",
       "      <td>28</td>\n",
       "    </tr>\n",
       "    <tr>\n",
       "      <th>1</th>\n",
       "      <td>540.0</td>\n",
       "      <td>0.0</td>\n",
       "      <td>0.0</td>\n",
       "      <td>162.0</td>\n",
       "      <td>2.5</td>\n",
       "      <td>1055.0</td>\n",
       "      <td>676.0</td>\n",
       "      <td>28</td>\n",
       "    </tr>\n",
       "    <tr>\n",
       "      <th>2</th>\n",
       "      <td>332.5</td>\n",
       "      <td>142.5</td>\n",
       "      <td>0.0</td>\n",
       "      <td>228.0</td>\n",
       "      <td>0.0</td>\n",
       "      <td>932.0</td>\n",
       "      <td>594.0</td>\n",
       "      <td>270</td>\n",
       "    </tr>\n",
       "    <tr>\n",
       "      <th>3</th>\n",
       "      <td>332.5</td>\n",
       "      <td>142.5</td>\n",
       "      <td>0.0</td>\n",
       "      <td>228.0</td>\n",
       "      <td>0.0</td>\n",
       "      <td>932.0</td>\n",
       "      <td>594.0</td>\n",
       "      <td>365</td>\n",
       "    </tr>\n",
       "    <tr>\n",
       "      <th>4</th>\n",
       "      <td>198.6</td>\n",
       "      <td>132.4</td>\n",
       "      <td>0.0</td>\n",
       "      <td>192.0</td>\n",
       "      <td>0.0</td>\n",
       "      <td>978.4</td>\n",
       "      <td>825.5</td>\n",
       "      <td>360</td>\n",
       "    </tr>\n",
       "  </tbody>\n",
       "</table>\n",
       "</div>"
      ],
      "text/plain": [
       "   Cement  Blast Furnace Slag  Fly Ash  Water  Superplasticizer  \\\n",
       "0   540.0                 0.0      0.0  162.0               2.5   \n",
       "1   540.0                 0.0      0.0  162.0               2.5   \n",
       "2   332.5               142.5      0.0  228.0               0.0   \n",
       "3   332.5               142.5      0.0  228.0               0.0   \n",
       "4   198.6               132.4      0.0  192.0               0.0   \n",
       "\n",
       "   Coarse Aggregate  Fine Aggregate  Age  \n",
       "0            1040.0           676.0   28  \n",
       "1            1055.0           676.0   28  \n",
       "2             932.0           594.0  270  \n",
       "3             932.0           594.0  365  \n",
       "4             978.4           825.5  360  "
      ]
     },
     "execution_count": 7,
     "metadata": {},
     "output_type": "execute_result"
    }
   ],
   "source": [
    "predictors.head()"
   ]
  },
  {
   "cell_type": "code",
   "execution_count": 8,
   "metadata": {
    "button": false,
    "deletable": true,
    "new_sheet": false,
    "run_control": {
     "read_only": false
    }
   },
   "outputs": [
    {
     "data": {
      "text/plain": [
       "0    79.99\n",
       "1    61.89\n",
       "2    40.27\n",
       "3    41.05\n",
       "4    44.30\n",
       "Name: Strength, dtype: float64"
      ]
     },
     "execution_count": 8,
     "metadata": {},
     "output_type": "execute_result"
    }
   ],
   "source": [
    "target.head()"
   ]
  },
  {
   "cell_type": "markdown",
   "metadata": {
    "button": false,
    "deletable": true,
    "new_sheet": false,
    "run_control": {
     "read_only": false
    }
   },
   "source": [
    "Finally, the last step is to normalize the data by substracting the mean and dividing by the standard deviation.\n"
   ]
  },
  {
   "cell_type": "code",
   "execution_count": 10,
   "metadata": {
    "button": false,
    "deletable": true,
    "new_sheet": false,
    "run_control": {
     "read_only": false
    }
   },
   "outputs": [
    {
     "data": {
      "text/html": [
       "<div>\n",
       "<style scoped>\n",
       "    .dataframe tbody tr th:only-of-type {\n",
       "        vertical-align: middle;\n",
       "    }\n",
       "\n",
       "    .dataframe tbody tr th {\n",
       "        vertical-align: top;\n",
       "    }\n",
       "\n",
       "    .dataframe thead th {\n",
       "        text-align: right;\n",
       "    }\n",
       "</style>\n",
       "<table border=\"1\" class=\"dataframe\">\n",
       "  <thead>\n",
       "    <tr style=\"text-align: right;\">\n",
       "      <th></th>\n",
       "      <th>Cement</th>\n",
       "      <th>Blast Furnace Slag</th>\n",
       "      <th>Fly Ash</th>\n",
       "      <th>Water</th>\n",
       "      <th>Superplasticizer</th>\n",
       "      <th>Coarse Aggregate</th>\n",
       "      <th>Fine Aggregate</th>\n",
       "      <th>Age</th>\n",
       "    </tr>\n",
       "  </thead>\n",
       "  <tbody>\n",
       "    <tr>\n",
       "      <th>0</th>\n",
       "      <td>2.476712</td>\n",
       "      <td>-0.856472</td>\n",
       "      <td>-0.846733</td>\n",
       "      <td>-0.916319</td>\n",
       "      <td>-0.620147</td>\n",
       "      <td>0.862735</td>\n",
       "      <td>-1.217079</td>\n",
       "      <td>-0.279597</td>\n",
       "    </tr>\n",
       "    <tr>\n",
       "      <th>1</th>\n",
       "      <td>2.476712</td>\n",
       "      <td>-0.856472</td>\n",
       "      <td>-0.846733</td>\n",
       "      <td>-0.916319</td>\n",
       "      <td>-0.620147</td>\n",
       "      <td>1.055651</td>\n",
       "      <td>-1.217079</td>\n",
       "      <td>-0.279597</td>\n",
       "    </tr>\n",
       "    <tr>\n",
       "      <th>2</th>\n",
       "      <td>0.491187</td>\n",
       "      <td>0.795140</td>\n",
       "      <td>-0.846733</td>\n",
       "      <td>2.174405</td>\n",
       "      <td>-1.038638</td>\n",
       "      <td>-0.526262</td>\n",
       "      <td>-2.239829</td>\n",
       "      <td>3.551340</td>\n",
       "    </tr>\n",
       "    <tr>\n",
       "      <th>3</th>\n",
       "      <td>0.491187</td>\n",
       "      <td>0.795140</td>\n",
       "      <td>-0.846733</td>\n",
       "      <td>2.174405</td>\n",
       "      <td>-1.038638</td>\n",
       "      <td>-0.526262</td>\n",
       "      <td>-2.239829</td>\n",
       "      <td>5.055221</td>\n",
       "    </tr>\n",
       "    <tr>\n",
       "      <th>4</th>\n",
       "      <td>-0.790075</td>\n",
       "      <td>0.678079</td>\n",
       "      <td>-0.846733</td>\n",
       "      <td>0.488555</td>\n",
       "      <td>-1.038638</td>\n",
       "      <td>0.070492</td>\n",
       "      <td>0.647569</td>\n",
       "      <td>4.976069</td>\n",
       "    </tr>\n",
       "  </tbody>\n",
       "</table>\n",
       "</div>"
      ],
      "text/plain": [
       "     Cement  Blast Furnace Slag   Fly Ash     Water  Superplasticizer  \\\n",
       "0  2.476712           -0.856472 -0.846733 -0.916319         -0.620147   \n",
       "1  2.476712           -0.856472 -0.846733 -0.916319         -0.620147   \n",
       "2  0.491187            0.795140 -0.846733  2.174405         -1.038638   \n",
       "3  0.491187            0.795140 -0.846733  2.174405         -1.038638   \n",
       "4 -0.790075            0.678079 -0.846733  0.488555         -1.038638   \n",
       "\n",
       "   Coarse Aggregate  Fine Aggregate       Age  \n",
       "0          0.862735       -1.217079 -0.279597  \n",
       "1          1.055651       -1.217079 -0.279597  \n",
       "2         -0.526262       -2.239829  3.551340  \n",
       "3         -0.526262       -2.239829  5.055221  \n",
       "4          0.070492        0.647569  4.976069  "
      ]
     },
     "execution_count": 10,
     "metadata": {},
     "output_type": "execute_result"
    }
   ],
   "source": [
    "predictors_norm = (predictors - predictors.mean()) / predictors.std()\n",
    "predictors_norm.head()"
   ]
  },
  {
   "cell_type": "markdown",
   "metadata": {},
   "source": [
    "Let's save the number of predictors to _n_cols_ since we will need this number when building our network.\n"
   ]
  },
  {
   "cell_type": "code",
   "execution_count": 12,
   "metadata": {
    "button": false,
    "deletable": true,
    "new_sheet": false,
    "run_control": {
     "read_only": false
    }
   },
   "outputs": [
    {
     "data": {
      "text/plain": [
       "8"
      ]
     },
     "execution_count": 12,
     "metadata": {},
     "output_type": "execute_result"
    }
   ],
   "source": [
    "n_cols = predictors_norm.shape[1] # number of predictors\n",
    "n_cols"
   ]
  },
  {
   "cell_type": "markdown",
   "metadata": {
    "button": false,
    "deletable": true,
    "new_sheet": false,
    "run_control": {
     "read_only": false
    }
   },
   "source": [
    "<a id=\"item1\"></a>\n"
   ]
  },
  {
   "cell_type": "markdown",
   "metadata": {},
   "source": [
    "<a id='item32'></a>\n"
   ]
  },
  {
   "cell_type": "markdown",
   "metadata": {
    "button": false,
    "deletable": true,
    "new_sheet": false,
    "run_control": {
     "read_only": false
    }
   },
   "source": [
    "## Import Keras\n"
   ]
  },
  {
   "cell_type": "markdown",
   "metadata": {
    "button": false,
    "deletable": true,
    "new_sheet": false,
    "run_control": {
     "read_only": false
    }
   },
   "source": [
    "Recall from the videos that Keras normally runs on top of a low-level library such as TensorFlow. This means that to be able to use the Keras library, you will have to install TensorFlow first and when you import the Keras library, it will be explicitly displayed what backend was used to install the Keras library. In CC Labs, we used TensorFlow as the backend to install Keras, so it should clearly print that when we import Keras.\n"
   ]
  },
  {
   "cell_type": "markdown",
   "metadata": {
    "button": false,
    "deletable": true,
    "new_sheet": false,
    "run_control": {
     "read_only": false
    }
   },
   "source": [
    "#### Let's go ahead and import the Keras library\n"
   ]
  },
  {
   "cell_type": "code",
   "execution_count": 13,
   "metadata": {
    "button": false,
    "deletable": true,
    "new_sheet": false,
    "run_control": {
     "read_only": false
    }
   },
   "outputs": [
    {
     "name": "stderr",
     "output_type": "stream",
     "text": [
      "Using TensorFlow backend.\n",
      "/home/jupyterlab/conda/envs/python/lib/python3.6/site-packages/tensorflow/python/framework/dtypes.py:519: FutureWarning: Passing (type, 1) or '1type' as a synonym of type is deprecated; in a future version of numpy, it will be understood as (type, (1,)) / '(1,)type'.\n",
      "  _np_qint8 = np.dtype([(\"qint8\", np.int8, 1)])\n",
      "/home/jupyterlab/conda/envs/python/lib/python3.6/site-packages/tensorflow/python/framework/dtypes.py:520: FutureWarning: Passing (type, 1) or '1type' as a synonym of type is deprecated; in a future version of numpy, it will be understood as (type, (1,)) / '(1,)type'.\n",
      "  _np_quint8 = np.dtype([(\"quint8\", np.uint8, 1)])\n",
      "/home/jupyterlab/conda/envs/python/lib/python3.6/site-packages/tensorflow/python/framework/dtypes.py:521: FutureWarning: Passing (type, 1) or '1type' as a synonym of type is deprecated; in a future version of numpy, it will be understood as (type, (1,)) / '(1,)type'.\n",
      "  _np_qint16 = np.dtype([(\"qint16\", np.int16, 1)])\n",
      "/home/jupyterlab/conda/envs/python/lib/python3.6/site-packages/tensorflow/python/framework/dtypes.py:522: FutureWarning: Passing (type, 1) or '1type' as a synonym of type is deprecated; in a future version of numpy, it will be understood as (type, (1,)) / '(1,)type'.\n",
      "  _np_quint16 = np.dtype([(\"quint16\", np.uint16, 1)])\n",
      "/home/jupyterlab/conda/envs/python/lib/python3.6/site-packages/tensorflow/python/framework/dtypes.py:523: FutureWarning: Passing (type, 1) or '1type' as a synonym of type is deprecated; in a future version of numpy, it will be understood as (type, (1,)) / '(1,)type'.\n",
      "  _np_qint32 = np.dtype([(\"qint32\", np.int32, 1)])\n",
      "/home/jupyterlab/conda/envs/python/lib/python3.6/site-packages/tensorflow/python/framework/dtypes.py:528: FutureWarning: Passing (type, 1) or '1type' as a synonym of type is deprecated; in a future version of numpy, it will be understood as (type, (1,)) / '(1,)type'.\n",
      "  np_resource = np.dtype([(\"resource\", np.ubyte, 1)])\n"
     ]
    }
   ],
   "source": [
    "import keras"
   ]
  },
  {
   "cell_type": "markdown",
   "metadata": {
    "button": false,
    "deletable": true,
    "new_sheet": false,
    "run_control": {
     "read_only": false
    }
   },
   "source": [
    "As you can see, the TensorFlow backend was used to install the Keras library.\n"
   ]
  },
  {
   "cell_type": "markdown",
   "metadata": {
    "button": false,
    "deletable": true,
    "new_sheet": false,
    "run_control": {
     "read_only": false
    }
   },
   "source": [
    "Let's import the rest of the packages from the Keras library that we will need to build our regressoin model.\n"
   ]
  },
  {
   "cell_type": "code",
   "execution_count": 14,
   "metadata": {
    "button": false,
    "deletable": true,
    "new_sheet": false,
    "run_control": {
     "read_only": false
    }
   },
   "outputs": [],
   "source": [
    "from keras.models import Sequential\n",
    "from keras.layers import Dense"
   ]
  },
  {
   "cell_type": "markdown",
   "metadata": {},
   "source": [
    "<a id='item33'></a>\n"
   ]
  },
  {
   "cell_type": "markdown",
   "metadata": {
    "button": false,
    "deletable": true,
    "new_sheet": false,
    "run_control": {
     "read_only": false
    }
   },
   "source": [
    "## Build a Neural Network\n"
   ]
  },
  {
   "cell_type": "markdown",
   "metadata": {
    "button": false,
    "deletable": true,
    "new_sheet": false,
    "run_control": {
     "read_only": false
    }
   },
   "source": [
    "Let's define a function that defines our regression model for us so that we can conveniently call it to create our model.\n"
   ]
  },
  {
   "cell_type": "code",
   "execution_count": 17,
   "metadata": {
    "button": false,
    "deletable": true,
    "new_sheet": false,
    "run_control": {
     "read_only": false
    }
   },
   "outputs": [],
   "source": [
    "# define regression model\n",
    "def regression_model():\n",
    "    # create model\n",
    "    model = Sequential()\n",
    "    model.add(Dense(50, activation='relu', input_shape=(n_cols,)))\n",
    "    model.add(Dense(50, activation='relu'))\n",
    "    model.add(Dense(1))\n",
    "    \n",
    "    # compile model\n",
    "    model.compile(optimizer='adam', loss='mean_squared_error')\n",
    "    return model"
   ]
  },
  {
   "cell_type": "markdown",
   "metadata": {},
   "source": [
    "The above function create a model that has two hidden layers, each of 50 hidden units.\n"
   ]
  },
  {
   "cell_type": "markdown",
   "metadata": {
    "button": false,
    "deletable": true,
    "new_sheet": false,
    "run_control": {
     "read_only": false
    }
   },
   "source": [
    "<a id=\"item4\"></a>\n"
   ]
  },
  {
   "cell_type": "markdown",
   "metadata": {},
   "source": [
    "<a id='item34'></a>\n"
   ]
  },
  {
   "cell_type": "markdown",
   "metadata": {
    "button": false,
    "deletable": true,
    "new_sheet": false,
    "run_control": {
     "read_only": false
    }
   },
   "source": [
    "## Train and Test the Network\n"
   ]
  },
  {
   "cell_type": "markdown",
   "metadata": {},
   "source": [
    "Let's call the function now to create our model.\n"
   ]
  },
  {
   "cell_type": "code",
   "execution_count": 18,
   "metadata": {
    "button": false,
    "deletable": true,
    "new_sheet": false,
    "run_control": {
     "read_only": false
    }
   },
   "outputs": [],
   "source": [
    "# build the model\n",
    "model = regression_model()"
   ]
  },
  {
   "cell_type": "markdown",
   "metadata": {},
   "source": [
    "Next, we will train and test the model at the same time using the _fit_ method. We will leave out 30% of the data for validation and we will train the model for 100 epochs.\n"
   ]
  },
  {
   "cell_type": "code",
   "execution_count": null,
   "metadata": {},
   "outputs": [
    {
     "name": "stdout",
     "output_type": "stream",
     "text": [
      "Train on 721 samples, validate on 309 samples\n",
      "Epoch 1/500\n",
      " - 0s - loss: 36.2769 - val_loss: 140.9048\n",
      "Epoch 2/500\n",
      " - 0s - loss: 35.8147 - val_loss: 157.2149\n",
      "Epoch 3/500\n",
      " - 0s - loss: 35.8179 - val_loss: 149.3459\n",
      "Epoch 4/500\n",
      " - 0s - loss: 35.3143 - val_loss: 142.1004\n",
      "Epoch 5/500\n",
      " - 0s - loss: 35.5449 - val_loss: 159.4861\n",
      "Epoch 6/500\n",
      " - 0s - loss: 34.9288 - val_loss: 147.6475\n",
      "Epoch 7/500\n",
      " - 0s - loss: 34.8061 - val_loss: 144.1551\n",
      "Epoch 8/500\n",
      " - 0s - loss: 34.8331 - val_loss: 143.0744\n",
      "Epoch 9/500\n",
      " - 0s - loss: 34.2642 - val_loss: 169.7282\n",
      "Epoch 10/500\n",
      " - 0s - loss: 34.0931 - val_loss: 142.1075\n",
      "Epoch 11/500\n",
      " - 0s - loss: 33.7699 - val_loss: 157.9721\n",
      "Epoch 12/500\n",
      " - 0s - loss: 33.5566 - val_loss: 150.7079\n",
      "Epoch 13/500\n",
      " - 0s - loss: 33.2445 - val_loss: 153.5457\n",
      "Epoch 14/500\n",
      " - 0s - loss: 33.0243 - val_loss: 162.9236\n",
      "Epoch 15/500\n",
      " - 0s - loss: 32.6091 - val_loss: 138.3883\n",
      "Epoch 16/500\n",
      " - 0s - loss: 33.5113 - val_loss: 165.8794\n",
      "Epoch 17/500\n",
      " - 0s - loss: 32.2974 - val_loss: 148.8337\n",
      "Epoch 18/500\n",
      " - 0s - loss: 32.0207 - val_loss: 153.7057\n",
      "Epoch 19/500\n",
      " - 0s - loss: 32.0406 - val_loss: 179.8812\n",
      "Epoch 20/500\n",
      " - 0s - loss: 32.9343 - val_loss: 154.1212\n",
      "Epoch 21/500\n",
      " - 0s - loss: 31.8378 - val_loss: 149.8597\n",
      "Epoch 22/500\n",
      " - 0s - loss: 31.0567 - val_loss: 156.7444\n",
      "Epoch 23/500\n",
      " - 0s - loss: 31.0452 - val_loss: 157.1089\n",
      "Epoch 24/500\n",
      " - 0s - loss: 31.4194 - val_loss: 171.0076\n",
      "Epoch 25/500\n",
      " - 0s - loss: 30.7088 - val_loss: 148.8180\n",
      "Epoch 26/500\n",
      " - 0s - loss: 30.3422 - val_loss: 161.5963\n",
      "Epoch 27/500\n",
      " - 0s - loss: 30.1034 - val_loss: 147.3672\n",
      "Epoch 28/500\n",
      " - 0s - loss: 30.5214 - val_loss: 149.4627\n",
      "Epoch 29/500\n",
      " - 0s - loss: 29.7087 - val_loss: 164.9245\n",
      "Epoch 30/500\n",
      " - 0s - loss: 29.7775 - val_loss: 157.1780\n",
      "Epoch 31/500\n",
      " - 0s - loss: 29.8285 - val_loss: 167.6103\n",
      "Epoch 32/500\n",
      " - 0s - loss: 30.3860 - val_loss: 157.9384\n",
      "Epoch 33/500\n",
      " - 0s - loss: 29.2205 - val_loss: 148.4734\n",
      "Epoch 34/500\n",
      " - 0s - loss: 29.0758 - val_loss: 161.0485\n",
      "Epoch 35/500\n",
      " - 0s - loss: 29.1908 - val_loss: 173.5979\n",
      "Epoch 36/500\n",
      " - 0s - loss: 29.4065 - val_loss: 156.9521\n",
      "Epoch 37/500\n",
      " - 0s - loss: 28.5638 - val_loss: 148.6216\n",
      "Epoch 38/500\n",
      " - 0s - loss: 28.5742 - val_loss: 164.4549\n",
      "Epoch 39/500\n",
      " - 0s - loss: 28.5894 - val_loss: 159.6061\n",
      "Epoch 40/500\n",
      " - 0s - loss: 28.1336 - val_loss: 155.2186\n",
      "Epoch 41/500\n",
      " - 0s - loss: 28.3596 - val_loss: 154.4291\n",
      "Epoch 42/500\n",
      " - 0s - loss: 27.9218 - val_loss: 159.3791\n",
      "Epoch 43/500\n",
      " - 0s - loss: 27.8113 - val_loss: 158.5534\n",
      "Epoch 44/500\n",
      " - 0s - loss: 27.3835 - val_loss: 170.2621\n",
      "Epoch 45/500\n",
      " - 0s - loss: 27.1278 - val_loss: 149.0540\n",
      "Epoch 46/500\n",
      " - 0s - loss: 27.0605 - val_loss: 163.1576\n",
      "Epoch 47/500\n",
      " - 0s - loss: 27.2921 - val_loss: 155.3072\n",
      "Epoch 48/500\n",
      " - 0s - loss: 26.8546 - val_loss: 170.1225\n",
      "Epoch 49/500\n",
      " - 0s - loss: 27.2733 - val_loss: 177.2427\n",
      "Epoch 50/500\n",
      " - 0s - loss: 26.8949 - val_loss: 158.2303\n",
      "Epoch 51/500\n",
      " - 0s - loss: 27.4933 - val_loss: 161.2024\n",
      "Epoch 52/500\n",
      " - 0s - loss: 26.7368 - val_loss: 153.5445\n",
      "Epoch 53/500\n",
      " - 0s - loss: 26.3276 - val_loss: 152.5352\n",
      "Epoch 54/500\n",
      " - 0s - loss: 25.8659 - val_loss: 149.1107\n",
      "Epoch 55/500\n",
      " - 0s - loss: 26.2779 - val_loss: 163.3760\n",
      "Epoch 56/500\n",
      " - 0s - loss: 25.6632 - val_loss: 159.1193\n",
      "Epoch 57/500\n",
      " - 0s - loss: 25.6876 - val_loss: 162.1822\n",
      "Epoch 58/500\n",
      " - 0s - loss: 25.5672 - val_loss: 153.2002\n",
      "Epoch 59/500\n",
      " - 0s - loss: 25.2161 - val_loss: 163.0523\n",
      "Epoch 60/500\n",
      " - 0s - loss: 25.4232 - val_loss: 158.6413\n",
      "Epoch 61/500\n",
      " - 0s - loss: 25.3042 - val_loss: 153.4219\n",
      "Epoch 62/500\n",
      " - 0s - loss: 24.7941 - val_loss: 163.6819\n",
      "Epoch 63/500\n",
      " - 0s - loss: 24.9636 - val_loss: 154.2104\n",
      "Epoch 64/500\n",
      " - 0s - loss: 25.1106 - val_loss: 158.3530\n",
      "Epoch 65/500\n",
      " - 0s - loss: 24.5737 - val_loss: 155.2023\n",
      "Epoch 66/500\n",
      " - 0s - loss: 24.5381 - val_loss: 157.2572\n",
      "Epoch 67/500\n",
      " - 0s - loss: 25.0124 - val_loss: 158.8088\n",
      "Epoch 68/500\n",
      " - 0s - loss: 24.3941 - val_loss: 156.0083\n",
      "Epoch 69/500\n",
      " - 0s - loss: 24.5825 - val_loss: 166.5350\n",
      "Epoch 70/500\n",
      " - 0s - loss: 24.1788 - val_loss: 160.5027\n",
      "Epoch 71/500\n",
      " - 0s - loss: 24.0169 - val_loss: 152.7453\n",
      "Epoch 72/500\n",
      " - 0s - loss: 23.9990 - val_loss: 158.8892\n",
      "Epoch 73/500\n",
      " - 0s - loss: 23.8026 - val_loss: 174.8725\n",
      "Epoch 74/500\n",
      " - 0s - loss: 24.0828 - val_loss: 154.8743\n",
      "Epoch 75/500\n",
      " - 0s - loss: 23.7751 - val_loss: 151.2026\n",
      "Epoch 76/500\n",
      " - 0s - loss: 23.3340 - val_loss: 160.7135\n",
      "Epoch 77/500\n",
      " - 0s - loss: 23.3701 - val_loss: 148.7420\n",
      "Epoch 78/500\n",
      " - 0s - loss: 23.4253 - val_loss: 145.5358\n",
      "Epoch 79/500\n",
      " - 0s - loss: 22.9414 - val_loss: 154.0829\n",
      "Epoch 80/500\n",
      " - 0s - loss: 23.4238 - val_loss: 171.5391\n",
      "Epoch 81/500\n",
      " - 0s - loss: 23.1537 - val_loss: 150.6984\n",
      "Epoch 82/500\n",
      " - 0s - loss: 22.7502 - val_loss: 159.3909\n",
      "Epoch 83/500\n",
      " - 0s - loss: 22.5560 - val_loss: 159.9691\n",
      "Epoch 84/500\n",
      " - 0s - loss: 22.5818 - val_loss: 158.3404\n",
      "Epoch 85/500\n",
      " - 0s - loss: 22.3200 - val_loss: 153.6945\n",
      "Epoch 86/500\n",
      " - 0s - loss: 22.3832 - val_loss: 160.6113\n",
      "Epoch 87/500\n",
      " - 0s - loss: 22.4836 - val_loss: 155.5228\n",
      "Epoch 88/500\n",
      " - 0s - loss: 22.3560 - val_loss: 151.8468\n",
      "Epoch 89/500\n",
      " - 0s - loss: 22.3515 - val_loss: 146.8499\n",
      "Epoch 90/500\n",
      " - 0s - loss: 22.1685 - val_loss: 149.3284\n",
      "Epoch 91/500\n",
      " - 0s - loss: 22.2597 - val_loss: 157.9011\n",
      "Epoch 92/500\n",
      " - 0s - loss: 21.5585 - val_loss: 141.5217\n",
      "Epoch 93/500\n",
      " - 0s - loss: 22.0598 - val_loss: 152.7393\n",
      "Epoch 94/500\n",
      " - 0s - loss: 21.6069 - val_loss: 147.5297\n",
      "Epoch 95/500\n",
      " - 0s - loss: 21.4345 - val_loss: 149.8876\n",
      "Epoch 96/500\n",
      " - 0s - loss: 21.5104 - val_loss: 141.0274\n",
      "Epoch 97/500\n",
      " - 0s - loss: 21.4240 - val_loss: 159.5145\n",
      "Epoch 98/500\n",
      " - 0s - loss: 21.6497 - val_loss: 146.6870\n",
      "Epoch 99/500\n",
      " - 0s - loss: 21.1946 - val_loss: 154.0516\n",
      "Epoch 100/500\n",
      " - 0s - loss: 21.3341 - val_loss: 159.2132\n",
      "Epoch 101/500\n",
      " - 0s - loss: 21.3640 - val_loss: 156.3378\n",
      "Epoch 102/500\n",
      " - 0s - loss: 20.6351 - val_loss: 141.8095\n",
      "Epoch 103/500\n",
      " - 0s - loss: 21.0506 - val_loss: 149.8392\n",
      "Epoch 104/500\n",
      " - 0s - loss: 20.8995 - val_loss: 154.4825\n",
      "Epoch 105/500\n",
      " - 0s - loss: 20.3792 - val_loss: 148.9459\n",
      "Epoch 106/500\n",
      " - 0s - loss: 20.3917 - val_loss: 163.1618\n",
      "Epoch 107/500\n",
      " - 0s - loss: 20.2710 - val_loss: 153.5931\n",
      "Epoch 108/500\n",
      " - 0s - loss: 20.5824 - val_loss: 148.8263\n",
      "Epoch 109/500\n",
      " - 0s - loss: 20.5838 - val_loss: 151.7256\n",
      "Epoch 110/500\n",
      " - 0s - loss: 19.9367 - val_loss: 152.4461\n",
      "Epoch 111/500\n",
      " - 0s - loss: 20.3564 - val_loss: 141.2911\n",
      "Epoch 112/500\n",
      " - 0s - loss: 20.1391 - val_loss: 154.4003\n",
      "Epoch 113/500\n",
      " - 0s - loss: 19.7779 - val_loss: 155.6476\n",
      "Epoch 114/500\n",
      " - 0s - loss: 19.4139 - val_loss: 165.6825\n",
      "Epoch 115/500\n",
      " - 0s - loss: 19.6918 - val_loss: 161.9763\n",
      "Epoch 116/500\n",
      " - 0s - loss: 19.8829 - val_loss: 146.6405\n",
      "Epoch 117/500\n",
      " - 0s - loss: 19.6304 - val_loss: 156.1156\n",
      "Epoch 118/500\n",
      " - 0s - loss: 19.5055 - val_loss: 155.7123\n",
      "Epoch 119/500\n",
      " - 0s - loss: 18.9900 - val_loss: 154.2151\n",
      "Epoch 120/500\n",
      " - 0s - loss: 19.0815 - val_loss: 148.2153\n",
      "Epoch 121/500\n",
      " - 0s - loss: 19.5614 - val_loss: 155.2477\n",
      "Epoch 122/500\n",
      " - 0s - loss: 19.1876 - val_loss: 154.6357\n",
      "Epoch 123/500\n",
      " - 0s - loss: 19.2493 - val_loss: 175.7631\n",
      "Epoch 124/500\n",
      " - 0s - loss: 19.4230 - val_loss: 161.8638\n",
      "Epoch 125/500\n",
      " - 0s - loss: 18.9293 - val_loss: 153.0948\n",
      "Epoch 126/500\n",
      " - 0s - loss: 19.1898 - val_loss: 160.3411\n",
      "Epoch 127/500\n",
      " - 0s - loss: 18.5419 - val_loss: 158.9141\n",
      "Epoch 128/500\n",
      " - 0s - loss: 18.3602 - val_loss: 158.4062\n",
      "Epoch 129/500\n",
      " - 0s - loss: 18.5773 - val_loss: 152.6783\n",
      "Epoch 130/500\n",
      " - 0s - loss: 18.6389 - val_loss: 171.4710\n",
      "Epoch 131/500\n",
      " - 0s - loss: 18.8343 - val_loss: 150.1019\n",
      "Epoch 132/500\n",
      " - 0s - loss: 18.8906 - val_loss: 166.0358\n",
      "Epoch 133/500\n",
      " - 0s - loss: 18.5176 - val_loss: 159.6489\n",
      "Epoch 134/500\n",
      " - 0s - loss: 17.9644 - val_loss: 162.9772\n",
      "Epoch 135/500\n",
      " - 0s - loss: 17.8993 - val_loss: 153.1049\n",
      "Epoch 136/500\n",
      " - 0s - loss: 18.1122 - val_loss: 148.1642\n",
      "Epoch 137/500\n",
      " - 0s - loss: 17.9607 - val_loss: 159.8607\n",
      "Epoch 138/500\n",
      " - 0s - loss: 18.0322 - val_loss: 160.5508\n",
      "Epoch 139/500\n",
      " - 0s - loss: 17.9607 - val_loss: 170.9888\n",
      "Epoch 140/500\n",
      " - 0s - loss: 17.7828 - val_loss: 159.8427\n",
      "Epoch 141/500\n",
      " - 0s - loss: 17.5076 - val_loss: 139.4290\n",
      "Epoch 142/500\n",
      " - 0s - loss: 17.8754 - val_loss: 156.7127\n",
      "Epoch 143/500\n",
      " - 0s - loss: 17.5878 - val_loss: 165.6153\n",
      "Epoch 144/500\n",
      " - 0s - loss: 17.2683 - val_loss: 157.7651\n",
      "Epoch 145/500\n",
      " - 0s - loss: 17.8188 - val_loss: 155.7368\n",
      "Epoch 146/500\n",
      " - 0s - loss: 17.2108 - val_loss: 164.3637\n",
      "Epoch 147/500\n",
      " - 0s - loss: 17.3964 - val_loss: 166.2725\n",
      "Epoch 148/500\n",
      " - 0s - loss: 17.0203 - val_loss: 151.3816\n",
      "Epoch 149/500\n",
      " - 0s - loss: 17.3463 - val_loss: 145.9313\n",
      "Epoch 150/500\n",
      " - 0s - loss: 17.2200 - val_loss: 150.3398\n",
      "Epoch 151/500\n",
      " - 0s - loss: 17.0147 - val_loss: 154.8755\n",
      "Epoch 152/500\n",
      " - 0s - loss: 17.0951 - val_loss: 158.1436\n",
      "Epoch 153/500\n",
      " - 0s - loss: 16.8083 - val_loss: 176.4012\n",
      "Epoch 154/500\n",
      " - 0s - loss: 17.2136 - val_loss: 165.1312\n",
      "Epoch 155/500\n",
      " - 0s - loss: 16.7837 - val_loss: 158.6827\n",
      "Epoch 156/500\n",
      " - 0s - loss: 17.0051 - val_loss: 168.4994\n",
      "Epoch 157/500\n",
      " - 0s - loss: 16.8505 - val_loss: 149.9489\n",
      "Epoch 158/500\n",
      " - 0s - loss: 16.7092 - val_loss: 161.8496\n",
      "Epoch 159/500\n",
      " - 0s - loss: 17.0435 - val_loss: 157.8242\n",
      "Epoch 160/500\n",
      " - 0s - loss: 16.8929 - val_loss: 166.9165\n",
      "Epoch 161/500\n",
      " - 0s - loss: 17.0933 - val_loss: 149.6477\n",
      "Epoch 162/500\n",
      " - 0s - loss: 16.7947 - val_loss: 158.5909\n",
      "Epoch 163/500\n",
      " - 0s - loss: 16.5501 - val_loss: 157.2479\n",
      "Epoch 164/500\n",
      " - 0s - loss: 16.1217 - val_loss: 170.4568\n",
      "Epoch 165/500\n",
      " - 0s - loss: 16.3845 - val_loss: 160.6883\n",
      "Epoch 166/500\n",
      " - 0s - loss: 16.4072 - val_loss: 169.0956\n",
      "Epoch 167/500\n",
      " - 0s - loss: 15.9452 - val_loss: 142.5232\n",
      "Epoch 168/500\n",
      " - 0s - loss: 16.0095 - val_loss: 163.6726\n",
      "Epoch 169/500\n",
      " - 0s - loss: 15.7001 - val_loss: 157.8954\n",
      "Epoch 170/500\n",
      " - 0s - loss: 16.0965 - val_loss: 153.4294\n",
      "Epoch 171/500\n",
      " - 0s - loss: 15.8693 - val_loss: 160.5765\n",
      "Epoch 172/500\n",
      " - 0s - loss: 15.7341 - val_loss: 166.7620\n",
      "Epoch 173/500\n",
      " - 0s - loss: 15.8769 - val_loss: 171.1615\n",
      "Epoch 174/500\n",
      " - 0s - loss: 15.6944 - val_loss: 168.5238\n",
      "Epoch 175/500\n",
      " - 0s - loss: 15.8520 - val_loss: 162.3239\n",
      "Epoch 176/500\n",
      " - 0s - loss: 15.6253 - val_loss: 172.0932\n",
      "Epoch 177/500\n",
      " - 0s - loss: 15.5658 - val_loss: 155.5996\n",
      "Epoch 178/500\n",
      " - 0s - loss: 15.8778 - val_loss: 146.6964\n",
      "Epoch 179/500\n",
      " - 0s - loss: 15.7554 - val_loss: 166.9219\n",
      "Epoch 180/500\n",
      " - 0s - loss: 15.2254 - val_loss: 160.4639\n",
      "Epoch 181/500\n",
      " - 0s - loss: 15.2073 - val_loss: 162.2355\n",
      "Epoch 182/500\n",
      " - 0s - loss: 15.5836 - val_loss: 178.4922\n",
      "Epoch 183/500\n",
      " - 0s - loss: 15.9711 - val_loss: 156.2470\n",
      "Epoch 184/500\n",
      " - 0s - loss: 14.9632 - val_loss: 156.9017\n",
      "Epoch 185/500\n",
      " - 0s - loss: 14.9886 - val_loss: 158.8237\n",
      "Epoch 186/500\n",
      " - 0s - loss: 15.3006 - val_loss: 145.9404\n",
      "Epoch 187/500\n",
      " - 0s - loss: 15.3480 - val_loss: 152.8582\n",
      "Epoch 188/500\n",
      " - 0s - loss: 14.7291 - val_loss: 166.2059\n",
      "Epoch 189/500\n",
      " - 0s - loss: 14.7787 - val_loss: 164.9805\n",
      "Epoch 190/500\n",
      " - 0s - loss: 14.9116 - val_loss: 160.6128\n",
      "Epoch 191/500\n",
      " - 0s - loss: 15.1949 - val_loss: 177.6148\n",
      "Epoch 192/500\n",
      " - 0s - loss: 14.4994 - val_loss: 154.8479\n",
      "Epoch 193/500\n",
      " - 0s - loss: 14.6013 - val_loss: 171.1028\n",
      "Epoch 194/500\n",
      " - 0s - loss: 14.7163 - val_loss: 159.1227\n",
      "Epoch 195/500\n",
      " - 0s - loss: 14.9897 - val_loss: 155.2955\n",
      "Epoch 196/500\n",
      " - 0s - loss: 14.4503 - val_loss: 161.2124\n",
      "Epoch 197/500\n",
      " - 0s - loss: 14.2435 - val_loss: 152.3544\n",
      "Epoch 198/500\n",
      " - 0s - loss: 14.3651 - val_loss: 153.6974\n",
      "Epoch 199/500\n",
      " - 0s - loss: 14.6077 - val_loss: 158.5809\n",
      "Epoch 200/500\n",
      " - 0s - loss: 14.3181 - val_loss: 163.4292\n",
      "Epoch 201/500\n",
      " - 0s - loss: 13.9947 - val_loss: 156.1518\n",
      "Epoch 202/500\n",
      " - 0s - loss: 14.3595 - val_loss: 163.3068\n",
      "Epoch 203/500\n",
      " - 0s - loss: 14.1291 - val_loss: 165.0831\n",
      "Epoch 204/500\n",
      " - 0s - loss: 13.9123 - val_loss: 168.0465\n",
      "Epoch 205/500\n",
      " - 0s - loss: 14.8459 - val_loss: 180.8153\n",
      "Epoch 206/500\n",
      " - 0s - loss: 14.0654 - val_loss: 157.6391\n",
      "Epoch 207/500\n",
      " - 0s - loss: 14.1625 - val_loss: 153.9732\n",
      "Epoch 208/500\n",
      " - 0s - loss: 13.9141 - val_loss: 156.9561\n",
      "Epoch 209/500\n",
      " - 0s - loss: 13.9267 - val_loss: 155.7812\n",
      "Epoch 210/500\n",
      " - 0s - loss: 14.0177 - val_loss: 163.8015\n",
      "Epoch 211/500\n",
      " - 0s - loss: 14.4072 - val_loss: 177.3000\n",
      "Epoch 212/500\n",
      " - 0s - loss: 13.9915 - val_loss: 165.4551\n",
      "Epoch 213/500\n",
      " - 0s - loss: 13.7825 - val_loss: 150.8231\n",
      "Epoch 214/500\n",
      " - 0s - loss: 13.6083 - val_loss: 169.9334\n",
      "Epoch 215/500\n",
      " - 0s - loss: 13.8519 - val_loss: 170.3049\n",
      "Epoch 216/500\n",
      " - 0s - loss: 13.4966 - val_loss: 169.7074\n",
      "Epoch 217/500\n",
      " - 0s - loss: 13.9285 - val_loss: 166.1257\n",
      "Epoch 218/500\n",
      " - 0s - loss: 13.6638 - val_loss: 162.1135\n",
      "Epoch 219/500\n",
      " - 0s - loss: 13.4357 - val_loss: 149.9396\n",
      "Epoch 220/500\n",
      " - 0s - loss: 13.5301 - val_loss: 162.7653\n",
      "Epoch 221/500\n",
      " - 0s - loss: 13.5184 - val_loss: 161.6878\n",
      "Epoch 222/500\n",
      " - 0s - loss: 13.8280 - val_loss: 165.3882\n",
      "Epoch 223/500\n",
      " - 0s - loss: 13.3798 - val_loss: 163.5895\n",
      "Epoch 224/500\n",
      " - 0s - loss: 13.4949 - val_loss: 167.9407\n",
      "Epoch 225/500\n",
      " - 0s - loss: 13.3503 - val_loss: 151.2108\n",
      "Epoch 226/500\n",
      " - 0s - loss: 13.1780 - val_loss: 170.9880\n",
      "Epoch 227/500\n",
      " - 0s - loss: 13.0442 - val_loss: 158.1299\n",
      "Epoch 228/500\n",
      " - 0s - loss: 13.3036 - val_loss: 153.9130\n",
      "Epoch 229/500\n",
      " - 0s - loss: 13.0799 - val_loss: 168.4497\n",
      "Epoch 230/500\n",
      " - 0s - loss: 13.1399 - val_loss: 159.2356\n",
      "Epoch 231/500\n",
      " - 0s - loss: 12.8874 - val_loss: 160.8996\n",
      "Epoch 232/500\n",
      " - 0s - loss: 12.7849 - val_loss: 172.4986\n",
      "Epoch 233/500\n",
      " - 0s - loss: 13.7494 - val_loss: 158.7730\n",
      "Epoch 234/500\n",
      " - 0s - loss: 13.4969 - val_loss: 151.5218\n",
      "Epoch 235/500\n",
      " - 0s - loss: 13.0008 - val_loss: 155.5011\n",
      "Epoch 236/500\n",
      " - 0s - loss: 13.1488 - val_loss: 155.8573\n",
      "Epoch 237/500\n",
      " - 0s - loss: 13.0046 - val_loss: 156.1455\n",
      "Epoch 238/500\n",
      " - 0s - loss: 13.5059 - val_loss: 155.7016\n",
      "Epoch 239/500\n",
      " - 0s - loss: 13.0655 - val_loss: 153.4746\n",
      "Epoch 240/500\n",
      " - 0s - loss: 12.8013 - val_loss: 163.6860\n",
      "Epoch 241/500\n",
      " - 0s - loss: 13.0268 - val_loss: 154.3166\n",
      "Epoch 242/500\n",
      " - 0s - loss: 12.8113 - val_loss: 160.4029\n",
      "Epoch 243/500\n",
      " - 0s - loss: 12.6631 - val_loss: 167.9490\n",
      "Epoch 244/500\n",
      " - 0s - loss: 13.0173 - val_loss: 159.0967\n",
      "Epoch 245/500\n",
      " - 0s - loss: 13.0913 - val_loss: 144.5534\n",
      "Epoch 246/500\n",
      " - 0s - loss: 12.9891 - val_loss: 164.5105\n",
      "Epoch 247/500\n",
      " - 0s - loss: 13.1973 - val_loss: 181.8990\n",
      "Epoch 248/500\n",
      " - 0s - loss: 13.1828 - val_loss: 158.0852\n"
     ]
    }
   ],
   "source": [
    "# fit the model\n",
    "model.fit(predictors_norm, target, validation_split=0.3, epochs=500, verbose=2)"
   ]
  },
  {
   "cell_type": "markdown",
   "metadata": {
    "button": false,
    "deletable": true,
    "new_sheet": false,
    "run_control": {
     "read_only": false
    }
   },
   "source": [
    "<strong>You can refer to this [link](https://keras.io/models/sequential?cm_mmc=Email_Newsletter-_-Developer_Ed%2BTech-_-WW_WW-_-SkillsNetwork-Courses-IBMDeveloperSkillsNetwork-DL0101EN-SkillsNetwork-20718188&cm_mmca1=000026UJ&cm_mmca2=10006555&cm_mmca3=M12345678&cvosrc=email.Newsletter.M12345678&cvo_campaign=000026UJ&cm_mmc=Email_Newsletter-_-Developer_Ed%2BTech-_-WW_WW-_-SkillsNetwork-Courses-IBMDeveloperSkillsNetwork-DL0101EN-SkillsNetwork-20718188&cm_mmca1=000026UJ&cm_mmca2=10006555&cm_mmca3=M12345678&cvosrc=email.Newsletter.M12345678&cvo_campaign=000026UJ&cm_mmc=Email_Newsletter-_-Developer_Ed%2BTech-_-WW_WW-_-SkillsNetwork-Courses-IBMDeveloperSkillsNetwork-DL0101EN-SkillsNetwork-20718188&cm_mmca1=000026UJ&cm_mmca2=10006555&cm_mmca3=M12345678&cvosrc=email.Newsletter.M12345678&cvo_campaign=000026UJ) to learn about other functions that you can use for prediction or evaluation.</strong>\n"
   ]
  },
  {
   "cell_type": "markdown",
   "metadata": {
    "button": false,
    "deletable": true,
    "new_sheet": false,
    "run_control": {
     "read_only": false
    }
   },
   "source": [
    "Feel free to vary the following and note what impact each change has on the model's performance:\n",
    "\n",
    "1.  Increase or decreate number of neurons in hidden layers\n",
    "2.  Add more hidden layers\n",
    "3.  Increase number of epochs\n"
   ]
  },
  {
   "cell_type": "markdown",
   "metadata": {
    "button": false,
    "deletable": true,
    "new_sheet": false,
    "run_control": {
     "read_only": false
    }
   },
   "source": [
    "### Thank you for completing this lab!\n",
    "\n",
    "This notebook was created by [Alex Aklson](https://www.linkedin.com/in/aklson?cm_mmc=Email_Newsletter-_-Developer_Ed%2BTech-_-WW_WW-_-SkillsNetwork-Courses-IBMDeveloperSkillsNetwork-DL0101EN-SkillsNetwork-20718188&cm_mmca1=000026UJ&cm_mmca2=10006555&cm_mmca3=M12345678&cvosrc=email.Newsletter.M12345678&cvo_campaign=000026UJ&cm_mmc=Email_Newsletter-_-Developer_Ed%2BTech-_-WW_WW-_-SkillsNetwork-Courses-IBMDeveloperSkillsNetwork-DL0101EN-SkillsNetwork-20718188&cm_mmca1=000026UJ&cm_mmca2=10006555&cm_mmca3=M12345678&cvosrc=email.Newsletter.M12345678&cvo_campaign=000026UJ). I hope you found this lab interesting and educational. Feel free to contact me if you have any questions!\n"
   ]
  },
  {
   "cell_type": "markdown",
   "metadata": {},
   "source": [
    "## Change Log\n",
    "\n",
    "| Date (YYYY-MM-DD) | Version | Changed By | Change Description                                          |\n",
    "| ----------------- | ------- | ---------- | ----------------------------------------------------------- |\n",
    "| 2020-09-21        | 2.0     | Srishti    | Migrated Lab to Markdown and added to course repo in GitLab |\n",
    "\n",
    "<hr>\n",
    "\n",
    "## <h3 align=\"center\"> © IBM Corporation 2020. All rights reserved. <h3/>\n"
   ]
  },
  {
   "cell_type": "markdown",
   "metadata": {
    "button": false,
    "deletable": true,
    "new_sheet": false,
    "run_control": {
     "read_only": false
    }
   },
   "source": [
    "This notebook is part of a course on **Coursera** called _Introduction to Deep Learning & Neural Networks with Keras_. If you accessed this notebook outside the course, you can take this course online by clicking [here](https://cocl.us/DL0101EN_Coursera_Week3_LAB1).\n"
   ]
  },
  {
   "cell_type": "markdown",
   "metadata": {
    "button": false,
    "deletable": true,
    "new_sheet": false,
    "run_control": {
     "read_only": false
    }
   },
   "source": [
    "<hr>\n",
    "\n",
    "Copyright © 2019 [IBM Developer Skills Network](https://cognitiveclass.ai?utm_source=bducopyrightlink&utm_medium=dswb&utm_campaign=bdu&cm_mmc=Email_Newsletter-_-Developer_Ed%2BTech-_-WW_WW-_-SkillsNetwork-Courses-IBMDeveloperSkillsNetwork-DL0101EN-SkillsNetwork-20718188&cm_mmca1=000026UJ&cm_mmca2=10006555&cm_mmca3=M12345678&cvosrc=email.Newsletter.M12345678&cvo_campaign=000026UJ&cm_mmc=Email_Newsletter-_-Developer_Ed%2BTech-_-WW_WW-_-SkillsNetwork-Courses-IBMDeveloperSkillsNetwork-DL0101EN-SkillsNetwork-20718188&cm_mmca1=000026UJ&cm_mmca2=10006555&cm_mmca3=M12345678&cvosrc=email.Newsletter.M12345678&cvo_campaign=000026UJ&cm_mmc=Email_Newsletter-_-Developer_Ed%2BTech-_-WW_WW-_-SkillsNetwork-Courses-IBMDeveloperSkillsNetwork-DL0101EN-SkillsNetwork-20718188&cm_mmca1=000026UJ&cm_mmca2=10006555&cm_mmca3=M12345678&cvosrc=email.Newsletter.M12345678&cvo_campaign=000026UJ&cm_mmc=Email_Newsletter-_-Developer_Ed%2BTech-_-WW_WW-_-SkillsNetwork-Courses-IBMDeveloperSkillsNetwork-DL0101EN-SkillsNetwork-20718188&cm_mmca1=000026UJ&cm_mmca2=10006555&cm_mmca3=M12345678&cvosrc=email.Newsletter.M12345678&cvo_campaign=000026UJ). This notebook and its source code are released under the terms of the [MIT License](https://bigdatauniversity.com/mit-license?cm_mmc=Email_Newsletter-_-Developer_Ed%2BTech-_-WW_WW-_-SkillsNetwork-Courses-IBMDeveloperSkillsNetwork-DL0101EN-SkillsNetwork-20718188&cm_mmca1=000026UJ&cm_mmca2=10006555&cm_mmca3=M12345678&cvosrc=email.Newsletter.M12345678&cvo_campaign=000026UJ&cm_mmc=Email_Newsletter-_-Developer_Ed%2BTech-_-WW_WW-_-SkillsNetwork-Courses-IBMDeveloperSkillsNetwork-DL0101EN-SkillsNetwork-20718188&cm_mmca1=000026UJ&cm_mmca2=10006555&cm_mmca3=M12345678&cvosrc=email.Newsletter.M12345678&cvo_campaign=000026UJ).\n"
   ]
  }
 ],
 "metadata": {
  "kernelspec": {
   "display_name": "Python",
   "language": "python",
   "name": "conda-env-python-py"
  },
  "language_info": {
   "codemirror_mode": {
    "name": "ipython",
    "version": 3
   },
   "file_extension": ".py",
   "mimetype": "text/x-python",
   "name": "python",
   "nbconvert_exporter": "python",
   "pygments_lexer": "ipython3",
   "version": "3.6.13"
  }
 },
 "nbformat": 4,
 "nbformat_minor": 4
}
